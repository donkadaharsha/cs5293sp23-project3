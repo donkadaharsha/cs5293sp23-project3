{
 "cells": [
  {
   "attachments": {},
   "cell_type": "markdown",
   "id": "2342813f",
   "metadata": {},
   "source": [
    "## Student Name: Harsha Vardhan\n",
    "## Student Email: Donkada.H.Vardhan-1@ou.edu"
   ]
  },
  {
   "attachments": {},
   "cell_type": "markdown",
   "id": "84e6ab65",
   "metadata": {},
   "source": [
    "# Project 3: The Smart City Slicker\n",
    "\n",
    "Imagine you are a stakeholder in a rising Smart City and want to know more about themes and concepts about existing smart cities. You also want to know where does your smart city place among others. In this project, you will perform \n",
    "exploratory data analysis, often shortened to EDA, to examine a data from the [2015 Smart City Challenge](https://www.transportation.gov/smartcity) to find facts about the data and communicating those facts through text analysis and visualizations.\n",
    "\n",
    "In order to explore the data and visualize it, some modifications might need to be made to the data along the way. This is often referred to as data preprocessing or cleaning.\n",
    "Though data preprocessing is technically different from EDA, EDA often exposes problems with the data that need to be fixed in order to continue exploring.\n",
    "Because of this tight coupling, you have to clean the data as necessary to help understand the data.\n",
    "\n",
    "In this project, you will apply your knowledge about data cleaning, machine learning, visualizations, and databases to explore smart city applications.\n",
    "\n",
    "**Part 1** of the notebook will explore and clean the data. \\\n",
    "**Part 2** will take the results of the preprocessed data to create models and visualizations.\n",
    "\n",
    "Empty cells are code cells. \n",
    "Cells denoted with $$$ are markdown cells.\n",
    "Edit and add as many cells as needed."
   ]
  },
  {
   "attachments": {},
   "cell_type": "markdown",
   "id": "6e8dcba1",
   "metadata": {},
   "source": [
    "Output file for this notebook is shown as a table for display purposes. Note: The city name can be Norman, OK or OK Norman.\n",
    "\n",
    "| city | raw text | clean text | clusterid | topicids | summary | keywords|\n",
    "| -- | -- | -- | -- | -- | -- | -- |\n",
    "|Norman, OK | Test, test , and testing. | test test test | 0 | T1, T2| test | test |"
   ]
  },
  {
   "attachments": {},
   "cell_type": "markdown",
   "id": "89fd47ce",
   "metadata": {},
   "source": [
    "## Introduction\n",
    "The Dataset: 2015 Smart City Challenge Applicants (non-finalist).\n",
    "In this project you will use the applicant's PDFs as a dataset.\n",
    "The dataset is from the U.S Department of Transportation Smart City Challenge.\n",
    "\n",
    "On the website page for the data, you can find some basic information about the challenge. This is an interesting dataset. Think of the questions that you might be able to answer! A few could be:\n",
    "\n",
    "1. Can I identify frequently occurring words that could be removed during data preprocessing?\n",
    "2. Where are the applicants from?\n",
    "3. Are there multiple entries for the same city in different applicantions?\n",
    "4. What are the major themes and concepts from the smart city applicants?\n",
    "\n",
    "Let's load the data!"
   ]
  },
  {
   "attachments": {},
   "cell_type": "markdown",
   "id": "7aace966",
   "metadata": {},
   "source": [
    "## Loading and Handling files\n",
    "\n",
    "Load data from `smartcity/`. \n",
    "\n",
    "To extract the data from the pdf files, use the [pypdf.pdf.PdfFileReader](https://pypdf.readthedocs.io/en/stable/index.html) class.\n",
    "It will allow you to extract pages and pdf files and add them to a data structure (dataframe, list, dictionary, etc).\n",
    "To install the module, use the command `pipenv install pypdf`.\n",
    "You only need to handle PDF files, handling docx is not necessary."
   ]
  },
  {
   "cell_type": "code",
   "execution_count": null,
   "id": "ef0afb30",
   "metadata": {
    "tags": []
   },
   "outputs": [],
   "source": [
    "import pypdf\n",
    "import os\n",
    "import pandas as pd\n",
    "pdf_path = \"smartcity\"\n",
    "city_name = []\n",
    "raw_text = []\n",
    "for filename in os.listdir(pdf_path):\n",
    "    if filename.endswith('.pdf'):\n",
    "        pdf_file = open(os.path.join(pdf_path, filename), 'rb')\n",
    "        pdf_reader = pypdf.PdfReader(pdf_file)\n",
    "        for page in range(len(pdf_reader.pages)):\n",
    "            page = pdf_reader._get_page(page)\n",
    "            text = page.extract_text()\n",
    "            raw_text.append(text)\n",
    "            file_name = os.path.basename(filename)\n",
    "            base_name = os.path.splitext(file_name)[0]\n",
    "            city = base_name.split('_')[0]\n",
    "            city_name.append(city)"
   ]
  },
  {
   "attachments": {},
   "cell_type": "markdown",
   "id": "d8ed6e32",
   "metadata": {},
   "source": [
    "Create a data structure to add the city name and raw text. You can choose to split the city name from the file."
   ]
  },
  {
   "cell_type": "code",
   "execution_count": null,
   "id": "2e4905f1",
   "metadata": {
    "tags": []
   },
   "outputs": [],
   "source": [
    "df = pd.DataFrame({'City': city_name, 'raw_text': raw_text})"
   ]
  },
  {
   "attachments": {},
   "cell_type": "markdown",
   "id": "5019a8c3",
   "metadata": {},
   "source": [
    "## Cleaning Up PDFs\n",
    "\n",
    "One of the more frustrating aspects of PDF is loading the data into a readable format. The first order of business will be to preprocess the data. To start, you can use code provided by Text Analytics with Python, [Chapter 3](https://github.com/dipanjanS/text-analytics-with-python/blob/master/New-Second-Edition/Ch03%20-%20Processing%20and%20Understanding%20Text/Ch03a%20-%20Text%20Wrangling.ipynb): [contractions.py](https://github.com/dipanjanS/text-analytics-with-python/blob/master/New-Second-Edition/Ch05%20-%20Text%20Classification/contractions.py) (Pages 136-137), and [text_normalizer.py](https://github.com/dipanjanS/text-analytics-with-python/blob/master/New-Second-Edition/Ch05%20-%20Text%20Classification/text_normalizer.py) (Pages 155-156). Feel free to download the scripts or add the code directly to the notebook (please note this code is performed on dataframes).\n",
    "\n",
    "In addition to the data cleaning provided by the textbook, you will need to:\n",
    "1. Consider removing terms that may effect clustering and topic modeling. Words to consider are cities, states, common words (smart, city, page, etc.). Keep in mind n-gram combinations are important; this can also be revisited later depending on your model's performance.\n",
    "2. Check the data to remove applicants that text was not processed correctly. Do not remove more than 15 cities from the data.\n"
   ]
  },
  {
   "cell_type": "code",
   "execution_count": null,
   "id": "8142e498",
   "metadata": {
    "tags": []
   },
   "outputs": [],
   "source": [
    "import nltk\n",
    "from nltk.tokenize import word_tokenize\n",
    "from nltk.corpus import stopwords\n",
    "from nltk.stem import WordNetLemmatizer\n",
    "import re\n",
    "\n",
    "nltk.download('stopwords')\n",
    "\n",
    "sw = set(stopwords.words('english')).union(['city', 'cities', 'state', 'states', 'page', 'smart'])\n",
    "lemmatizer = WordNetLemmatizer()\n",
    "cleaned_text = []\n",
    "for text in df['raw_text']:\n",
    "    text = re.sub(r'[^\\w\\s]', '', text)\n",
    "    words = word_tokenize(text.lower())\n",
    "    words = [lemmatizer.lemmatize(word) for word in words if word not in sw]\n",
    "    cleaned_text.append(' '.join(words))"
   ]
  },
  {
   "attachments": {},
   "cell_type": "markdown",
   "id": "1473a3e3",
   "metadata": {},
   "source": [
    "#### Add the cleaned text to the structure you created.\n"
   ]
  },
  {
   "cell_type": "code",
   "execution_count": null,
   "id": "3737fe02",
   "metadata": {
    "tags": []
   },
   "outputs": [],
   "source": [
    "df['Cleaned_Text'] = cleaned_text\n",
    "cities_to_remove = ['OH Toledo', 'CA Moreno Valley', 'TX Lubbock', 'NV Reno', 'FL Tallahassee', \n",
    "                    'NY Mt Vernon Yonkers New Rochelle', 'VA Newport News', 'TN Nashville', 'OK Oklahoma']\n",
    "df = df[~df['City'].isin(cities_to_remove)]\n",
    "df = df[df['Cleaned_Text'] != '']\n",
    "df.reset_index(drop=True, inplace=True)"
   ]
  },
  {
   "attachments": {},
   "cell_type": "markdown",
   "id": "82cc947b",
   "metadata": {},
   "source": [
    "### Clean Up: Discussion\n",
    "Answer the questions below."
   ]
  },
  {
   "attachments": {},
   "cell_type": "markdown",
   "id": "2f1ba98d",
   "metadata": {},
   "source": [
    "#### Which Smart City applicants did you remove? What issues did you see with the documents?"
   ]
  },
  {
   "attachments": {},
   "cell_type": "markdown",
   "id": "ffebf5a5",
   "metadata": {},
   "source": [
    "I removed 7 cities as because of the images and tables OH Toledo, CA Moreno Valley, NY Mt Vernon Yonkers New Rochelle, TN Nashville,VA Newport News, TX Lubbock, NV Reno, FL Tallahassee, OK Oklahoma"
   ]
  },
  {
   "attachments": {},
   "cell_type": "markdown",
   "id": "1620ed74",
   "metadata": {},
   "source": [
    "#### Explain what additional text processing methods you used and why."
   ]
  },
  {
   "attachments": {},
   "cell_type": "markdown",
   "id": "15817355",
   "metadata": {},
   "source": [
    "#### Did you identify any potientally problematic words?"
   ]
  },
  {
   "attachments": {},
   "cell_type": "markdown",
   "id": "e0ad6082",
   "metadata": {},
   "source": [
    "No"
   ]
  },
  {
   "attachments": {},
   "cell_type": "markdown",
   "id": "a1507fbe",
   "metadata": {
    "tags": []
   },
   "source": [
    "## Experimenting with Clustering Models\n",
    "\n",
    "Now, you'll start to explore models to find the optimal clustering model. In this section, you'll explore [K-means](https://scikit-learn.org/stable/modules/generated/sklearn.cluster.KMeans.html), [Hierarchical](https://scikit-learn.org/stable/modules/generated/sklearn.cluster.AgglomerativeClustering.html), and [DBSCAN](https://scikit-learn.org/stable/modules/generated/sklearn.cluster.DBSCAN.html#sklearn.cluster.DBSCAN) clustering algorithms.\n",
    "Create these algorithms with k_clusters for K-means and Hierarchical.\n",
    "For each cell in the table provide the [Silhouette score](https://scikit-learn.org/stable/modules/generated/sklearn.metrics.silhouette_score.html#sklearn.metrics.silhouette_score), [Calinski and Harabasz score](https://scikit-learn.org/stable/modules/generated/sklearn.metrics.calinski_harabasz_score.html#sklearn.metrics.calinski_harabasz_score), and [Davies-Bouldin score](https://scikit-learn.org/stable/modules/generated/sklearn.metrics.davies_bouldin_score.html#sklearn.metrics.davies_bouldin_score).\n",
    "\n",
    "In each cell, create an array to store the values.\n",
    "For example, \n",
    "\n",
    "|Algorithm| k = 9 | k = 18| k = 36 | Optimal k| \n",
    "|--|--|--|--|--|\n",
    "|K-means| [S,CH,DB]| [S,CH,DB] | [S,CH,DB] | [S,CH,DB] |\n",
    "|Hierarchical |[S,CH,DB]| [S,CH,DB]| [S,CH,DB] | [S,CH,DB]|\n",
    "|DBSCAN | X | X | X | [S,CH,DB] |\n",
    "\n",
    "\n",
    "\n",
    "### Optimality \n",
    "You will need to find the optimal k for K-means and Hierarchical algorithms.\n",
    "Find the optimality for k in the range 2 to 50.\n",
    "Provide the code used to generate the optimal k and provide justification for your approach.\n"
   ]
  },
  {
   "attachments": {},
   "cell_type": "markdown",
   "id": "8da2b033",
   "metadata": {},
   "source": [
    "|Algorithm| k = 9 | k = 18| k = 36 | Optimal k| \n",
    "|--|--|--|--|--|\n",
    "|K-means|--|--|--|--|\n",
    "|Hierarchical |--|--|--|--|\n",
    "|DBSCAN | X | X | X | -- |\n",
    "\n"
   ]
  },
  {
   "cell_type": "code",
   "execution_count": null,
   "id": "2dc8c7ab",
   "metadata": {
    "tags": []
   },
   "outputs": [],
   "source": [
    "from sklearn.feature_extraction.text import TfidfVectorizer\n",
    "from sklearn.cluster import KMeans, AgglomerativeClustering, DBSCAN\n",
    "from sklearn.metrics import silhouette_score, calinski_harabasz_score, davies_bouldin_score\n",
    "import numpy as np\n",
    "\n",
    "k_values = [9, 18, 36]\n",
    "    k_range = range(2, 50)\n",
    "    kmeans_val = []\n",
    "    hierarchical_val = []\n",
    "    optimal_score=[]\n",
    "\n",
    "    optimal_k_kmeans = 0\n",
    "    optimal_kmeans = -1\n",
    "    optimal_kmeans_calinski = -1\n",
    "    optimal_kmeans_devis = -1\n",
    "\n",
    "    optimal_k_hierarchical = 0\n",
    "    optimal_hierarchical = -1\n",
    "    optimal_hierarchical_calinski = -1\n",
    "    optimal_hierarchical_devis = -1\n",
    "\n",
    "    optimal_k_dbscan = 0\n",
    "    optimal_dbscan = -1\n",
    "    optimal_dbscan_calinski = -1\n",
    "    optimal_dbscan_davis = -1\n",
    "\n",
    "    for city in cleaned_df['City'].unique():\n",
    "        city_df = cleaned_df[cleaned_df['City'] == city]\n",
    "        vectorizer = TfidfVectorizer()\n",
    "        vectorized_text = vectorizer.fit_transform(city_df['Cleaned_Text'])\n",
    "        for k in k_values:\n",
    "            if(vectorized_text.shape[0]>=k):\n",
    "                kmeans = KMeans(n_clusters=k, random_state=0, n_init=\"auto\")\n",
    "                labels = kmeans.fit_predict(vectorized_text)\n",
    "                silhouette = silhouette_score(vectorized_text, labels)\n",
    "                calinski = calinski_harabasz_score(vectorized_text.toarray(), labels)\n",
    "                davies = davies_bouldin_score(vectorized_text.toarray(), labels)\n",
    "                kmeans_val.append({'k':k,'city':city,'silhouette':silhouette, 'calinski':calinski, 'davies':davies})\n",
    "                \n",
    "                hierarchical = AgglomerativeClustering(n_clusters=k)\n",
    "                hierarchical_labels = hierarchical.fit_predict(vectorized_text.toarray())\n",
    "                hierarchical_silhouette = silhouette_score(vectorized_text, hierarchical_labels)\n",
    "                hierarchical_calinski = calinski_harabasz_score(vectorized_text.toarray(), hierarchical_labels)\n",
    "                hierarchical_davies = davies_bouldin_score(vectorized_text.toarray(), hierarchical_labels)\n",
    "                hierarchical_val.append({'k':k,'city':city,'silhouette':hierarchical_silhouette, 'calinski':hierarchical_calinski, 'davies':hierarchical_davies})\n",
    "            else:\n",
    "                kmeans_val.append({'k':k,'city':city,'silhouette':0, 'calinski':0, 'davies':0})\n",
    "                hierarchical_val.append({'k':k,'city':city,'silhouette':0, 'calinski':0, 'davies':0})\n",
    "            \n",
    "        for k in k_range:\n",
    "            if(vectorized_text.shape[0]>k):\n",
    "                kmeans = KMeans(n_clusters=k, random_state=0, n_init=\"auto\")\n",
    "                kmeans_labels = kmeans.fit_predict(vectorized_text)\n",
    "                k_means_silhouette = silhouette_score(vectorized_text, kmeans_labels)\n",
    "                k_means_calinski = calinski_harabasz_score(vectorized_text.toarray(), kmeans_labels)\n",
    "                k_means_davies = davies_bouldin_score(vectorized_text.toarray(), kmeans_labels)\n",
    "                if k_means_silhouette > optimal_kmeans:\n",
    "                    optimal_k_kmeans = k\n",
    "                    optimal_kmeans = k_means_silhouette\n",
    "                    optimal_kmeans_calinski = k_means_calinski\n",
    "                    optimal_kmeans_davies = k_means_davies\n",
    "\n",
    "                hierarchical = AgglomerativeClustering(n_clusters=k)\n",
    "                hierarchical_labels = hierarchical.fit_predict(vectorized_text.toarray())\n",
    "                hierarchical_silhouette = silhouette_score(vectorized_text, hierarchical_labels)\n",
    "                hierarchical_calinski = calinski_harabasz_score(vectorized_text.toarray(), hierarchical_labels)\n",
    "                hierarchical_davies = davies_bouldin_score(vectorized_text.toarray(), hierarchical_labels)\n",
    "                if hierarchical_silhouette > optimal_hierarchical:\n",
    "                    optimal_k_hierarchical = k\n",
    "                    optimal_hierarchical = hierarchical_silhouette\n",
    "                    optimal_hierarchical_calinski = hierarchical_calinski\n",
    "                    optimal_hierarchical_davies = hierarchical_davies\n",
    "                    \n",
    "                dbscan = DBSCAN(eps=0.5, min_samples=k)\n",
    "                dbscan_labels = dbscan.fit_predict(vectorized_text)\n",
    "                if len(np.unique(dbscan_labels)) > 1: \n",
    "                    dbscan_silhouette = silhouette_score(vectorized_text, dbscan_labels)\n",
    "                    dbscan_calinski = calinski_harabasz_score(vectorized_text.toarray(), dbscan_labels)\n",
    "                    dbscan_davies = davies_bouldin_score(vectorized_text.toarray(), dbscan_labels)\n",
    "                    if dbscan_silhouette > optimal_dbscan:\n",
    "                        optimal_k_dbscan = k\n",
    "                        optimal_dbscan = dbscan_silhouette\n",
    "                        optimal_dbscan_calinski = dbscan_calinski\n",
    "                        optimal_dbscan_davis = dbscan_davies\n",
    "                        \n",
    "        \n",
    "                    \n",
    "        optimal_score.append({'City':city, 'optimal_k_kmeans':optimal_k_kmeans, 'optimal_k_hierarchical':optimal_k_hierarchical, 'optimal_k_dbscan':optimal_k_dbscan,\n",
    "                            'k_means_silhouette':optimal_kmeans,'k_means_calinski':optimal_kmeans_calinski, 'k_means_davies': optimal_kmeans_davies, \n",
    "                            'hierarchical_silhouette':optimal_hierarchical, 'hierarchical_calinski':optimal_hierarchical_calinski, 'hierarchical_davies':optimal_hierarchical_davies,\n",
    "                            'dbscan_silhouette': optimal_dbscan, 'dbscan_calinski': optimal_dbscan_calinski, 'dbscan_davies':optimal_dbscan_davis})\n",
    "\n",
    "    k_means_values = [{'k-value':d['k'],'City':d['city'],'K-Means': [d['silhouette'], d['calinski'], d['davies']]} for d in kmeans_val]\n",
    "    heirarchical_values = [{'Hierarchical': [d['silhouette'], d['calinski'], d['davies']]} for d in hierarchical_val]\n",
    "    optimal_values = [{'City':d['City'],'optimal-k_means':d['optimal_k_kmeans'], 'optimal_k_hierarchical': d['optimal_k_hierarchical'],'optimal_k_dbscan': d['optimal_k_dbscan'], \n",
    "                    'k_means_optimal_score':[d['k_means_silhouette'], d['k_means_calinski'], d['k_means_davies']], \n",
    "                    'Hierarchical_optimal_score':[d['hierarchical_silhouette'],d['hierarchical_calinski'], d['hierarchical_davies']],\n",
    "                    'DBSCAN_optimal_score':[d['dbscan_silhouette'], d['dbscan_calinski'], d['dbscan_davies']]}for d in optimal_score]\n",
    "\n",
    "k_means_values = [{'k-value':d['k'],'City':d['city'],'K-Means': [d['silhouette'], d['calinski'], d['davies']]} for d in kmeans_val]\n",
    "heirarchical_values = [{'Hierarchical': [d['silhouette'], d['calinski'], d['davies']]} for d in hierarchical_val]\n",
    "optimal_values = [{'City':d['City'],'optimal-k_means':d['optimal_k_kmeans'], 'optimal_k_hierarchical': d['optimal_k_hierarchical'],'optimal_k_dbscan': d['optimal_k_dbscan'], \n",
    "                  'k_means_optimal_score':[d['k_means_silhouette'], d['k_means_calinski'], d['k_means_davies']], \n",
    "                  'Hierarchical_optimal_score':[d['hierarchical_silhouette'],d['hierarchical_calinski'], d['hierarchical_davies']],\n",
    "                  'DBSCAN_optimal_score':[d['dbscan_silhouette'], d['dbscan_calinski'], d['dbscan_davies']]}for d in optimal_score]\n",
    "\n",
    "k_means_df = pd.DataFrame(k_means_values)\n",
    "heirarchical_df = pd.DataFrame(heirarchical_values)\n",
    "\n",
    "result_df = pd.concat([scores_df,heirarchical_df], axis=1)\n",
    "print(result_df)\n",
    "print(optimal_values)"
   ]
  },
  {
   "cell_type": "code",
   "execution_count": null,
   "id": "0d96d23a",
   "metadata": {
    "tags": []
   },
   "outputs": [],
   "source": [
    "opt_i = []\n",
    "for d in optimal_values:\n",
    "    city = d['City']\n",
    "    k_means_optimal_k = d['optimal-k_means']\n",
    "    hierarchical_optimal_k = d['optimal_k_hierarchical']\n",
    "    dbscan_optimal_k = d['optimal_k_dbscan']\n",
    "    k_means_scores = d['k_means_optimal_score']\n",
    "    hierarchical_scores = d['Hierarchical_optimal_score']\n",
    "    dbscan_scores = d['DBSCAN_optimal_score']\n",
    "    if k_means_scores[0]>=hierarchical_scores[0] and k_means_scores[0]>=dbscan_scores[0]:\n",
    "        opt = k_means_optimal_k\n",
    "        opt_i.append({'City':city, 'clusterid': opt})\n",
    "    elif hierarchical_scores[0] >= k_means_scores[0] and hierarchical_scores[0] >= dbscan_scores[0]:\n",
    "        opt = hierarchical_optimal_k\n",
    "        opt_i.append({'City':city, 'clusterid': opt})\n",
    "    else:\n",
    "        opt = dbscan_optimal_k\n",
    "        opt_i.append({'City':city, 'clusterid': opt})\n",
    "        \n",
    "        \n",
    "print(opt_i)"
   ]
  },
  {
   "attachments": {},
   "cell_type": "markdown",
   "id": "6c20fd69",
   "metadata": {},
   "source": [
    "#### How did you approach finding the optimal k?"
   ]
  },
  {
   "attachments": {},
   "cell_type": "markdown",
   "id": "753c54da",
   "metadata": {},
   "source": [
    "To determine the optimal k, I iterated through a range of k values from 2 to 51 and computed the silhouette score for each k value. The k value that yielded the highest silhouette score was considered the optimal k."
   ]
  },
  {
   "attachments": {},
   "cell_type": "markdown",
   "id": "f79ec635",
   "metadata": {},
   "source": [
    "#### What algorithm do you believe is the best? Why?"
   ]
  },
  {
   "attachments": {},
   "cell_type": "markdown",
   "id": "3136b0a4",
   "metadata": {},
   "source": [
    "I believe dbscan as the best as along with k values it also takes different epsilon values to find optimal K."
   ]
  },
  {
   "attachments": {},
   "cell_type": "markdown",
   "id": "2e45a2a3",
   "metadata": {},
   "source": [
    "### Add Cluster ID to output file\n",
    "In your data structure, add the cluster id for each smart city respectively. Show the to append the clusterid code below."
   ]
  },
  {
   "cell_type": "code",
   "execution_count": null,
   "id": "9ad83e3b",
   "metadata": {
    "tags": []
   },
   "outputs": [],
   "source": [
    "clusterid_df = pd.DataFrame(opt_i)\n",
    "df = pd.merge(df, clusterid_df, on=\"City\")\n",
    "df"
   ]
  },
  {
   "attachments": {},
   "cell_type": "markdown",
   "id": "959e7275",
   "metadata": {},
   "source": [
    "### Save Model\n",
    "\n",
    "After finding the best model, it is desirable to have a way to persist the model for future use without having to retrain. Save the model using [model persistance](https://scikit-learn.org/stable/model_persistence.html). This model should be saved in the same directory as this notebook and should be loaded as the model for your `project3.py`.\n",
    "\n",
    "Save the model as `model.pkl`. You do not have to use pickle, but be sure to save the persistance using one of the methods listed in the link."
   ]
  },
  {
   "cell_type": "code",
   "execution_count": 25,
   "id": "1c80938e",
   "metadata": {
    "tags": []
   },
   "outputs": [],
   "source": []
  },
  {
   "attachments": {},
   "cell_type": "markdown",
   "id": "3fe5a0c9",
   "metadata": {
    "tags": []
   },
   "source": [
    "## Derving Themes and Concepts\n",
    "\n",
    "Perform Topic Modeling on the cleaned data. Provide the top five words for `TOPIC_NUM = Best_k` as defined in the section above. Feel free to reference [Chapter 6](https://github.com/dipanjanS/text-analytics-with-python/tree/master/New-Second-Edition/Ch06%20-%20Text%20Summarization%20and%20Topic%20Models) for more information on Topic Modeling and Summarization."
   ]
  },
  {
   "cell_type": "code",
   "execution_count": null,
   "id": "b684bc24",
   "metadata": {},
   "outputs": [],
   "source": []
  },
  {
   "cell_type": "code",
   "execution_count": null,
   "id": "915516dc",
   "metadata": {},
   "outputs": [],
   "source": []
  },
  {
   "cell_type": "code",
   "execution_count": null,
   "id": "8a2a3896",
   "metadata": {},
   "outputs": [],
   "source": []
  },
  {
   "attachments": {},
   "cell_type": "markdown",
   "id": "1573fe65",
   "metadata": {},
   "source": [
    "### Extract themes\n",
    "Write a theme for each topic (atleast a sentence each)."
   ]
  },
  {
   "attachments": {},
   "cell_type": "markdown",
   "id": "9737d8df",
   "metadata": {},
   "source": [
    "[Your Answer]"
   ]
  },
  {
   "attachments": {},
   "cell_type": "markdown",
   "id": "21cf24c6",
   "metadata": {},
   "source": [
    "[Your Answer]"
   ]
  },
  {
   "attachments": {},
   "cell_type": "markdown",
   "id": "75e191f4",
   "metadata": {},
   "source": [
    "[Your Answer]"
   ]
  },
  {
   "attachments": {},
   "cell_type": "markdown",
   "id": "94ab7df0",
   "metadata": {},
   "source": [
    "### Add Topid ID to output file\n",
    "Add the top two topics for each smart city to the data structure."
   ]
  },
  {
   "cell_type": "code",
   "execution_count": null,
   "id": "3e937841",
   "metadata": {},
   "outputs": [],
   "source": []
  },
  {
   "cell_type": "code",
   "execution_count": null,
   "id": "8e568652",
   "metadata": {},
   "outputs": [],
   "source": []
  },
  {
   "attachments": {},
   "cell_type": "markdown",
   "id": "39f9c240",
   "metadata": {},
   "source": [
    "## Gathering Applicant Summaries and Keywords\n",
    "\n",
    "For each smart city applicant, gather a summary and keywords that are important to that document. You can use gensim to do this. Here are examples of functions that you could use.\n",
    "\n",
    "```python\n",
    "\n",
    "from gensim.summarization import summarize\n",
    "\n",
    "def summary(text, ratio=0.2, word_count=250, split=False):\n",
    "    return summarize(text, ratio= ratio, word_count=word_count, split=split)\n",
    "    \n",
    "from gensim.summarization import keywords\n",
    "\n",
    "def keys(text, ratio=0.01):\n",
    "    return keywords(text, ratio=ratio)\n",
    "```"
   ]
  },
  {
   "cell_type": "code",
   "execution_count": null,
   "id": "a86cbe26",
   "metadata": {},
   "outputs": [],
   "source": []
  },
  {
   "cell_type": "code",
   "execution_count": null,
   "id": "0b545ac4",
   "metadata": {},
   "outputs": [],
   "source": []
  },
  {
   "attachments": {},
   "cell_type": "markdown",
   "id": "2d27ce37",
   "metadata": {},
   "source": [
    "### Add Summaries and Keywords\n",
    "Add summary and keywords to output file."
   ]
  },
  {
   "cell_type": "code",
   "execution_count": null,
   "id": "c09357ff",
   "metadata": {},
   "outputs": [],
   "source": []
  },
  {
   "attachments": {},
   "cell_type": "markdown",
   "id": "4f9cb2c4",
   "metadata": {},
   "source": [
    "## Write output data\n",
    "\n",
    "The output data should be written as a TSV file.\n",
    "You can use `to_csv` method from Pandas for this if you are using a DataFrame.\n",
    "\n",
    "`Syntax: df.to_csv('file.tsv', sep = '')` \\\n",
    "`df.to_csv('smartcity_eda.tsv', sep='\\t')`"
   ]
  },
  {
   "cell_type": "code",
   "execution_count": null,
   "id": "58827464",
   "metadata": {},
   "outputs": [],
   "source": [
    "df.to_csv('smartcity_eda.tsv', sep='\\t')"
   ]
  },
  {
   "attachments": {},
   "cell_type": "markdown",
   "id": "7a18b8ff",
   "metadata": {},
   "source": [
    "# Moving Forward\n",
    "Now that you have explored the dataset, take the important features and functions to create your `project3.py`.\n",
    "Please refer to the project spec for more guidance.\n"
   ]
  },
  {
   "attachments": {},
   "cell_type": "markdown",
   "id": "0a6675ba",
   "metadata": {},
   "source": []
  }
 ],
 "metadata": {
  "kernelspec": {
   "display_name": "Python 3 (ipykernel)",
   "language": "python",
   "name": "python3"
  },
  "language_info": {
   "codemirror_mode": {
    "name": "ipython",
    "version": 3
   },
   "file_extension": ".py",
   "mimetype": "text/x-python",
   "name": "python",
   "nbconvert_exporter": "python",
   "pygments_lexer": "ipython3",
   "version": "3.10.1"
  }
 },
 "nbformat": 4,
 "nbformat_minor": 5
}
